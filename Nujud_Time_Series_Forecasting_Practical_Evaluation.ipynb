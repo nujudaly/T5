{
  "cells": [
    {
      "cell_type": "markdown",
      "metadata": {
        "id": "view-in-github",
        "colab_type": "text"
      },
      "source": [
        "<a href=\"https://colab.research.google.com/github/nujudaly/T5/blob/main/Nujud_Time_Series_Forecasting_Practical_Evaluation.ipynb\" target=\"_parent\"><img src=\"https://colab.research.google.com/assets/colab-badge.svg\" alt=\"Open In Colab\"/></a>"
      ]
    },
    {
      "cell_type": "markdown",
      "id": "3e2b26be",
      "metadata": {
        "id": "3e2b26be"
      },
      "source": [
        "# Time Series Forecasting Exam\n",
        "\n",
        "In this exam, you will work on a time series forecasting task. The goal is to go through the entire workflow from loading the data to evaluating the model and making predictions. Follow each step carefully. The dataset is stored in you can access it [here](https://www.kaggle.com/datasets/khaledzsa/traffic-dataset), the target is to predict `traffic_volume` column. There is also command to download the dataset below.\n",
        "\n",
        "## Dataset: Traffic Dataset\n",
        "\n",
        "### Dataset Overview:\n",
        "\n",
        "- **Name**: Traffic Dataset\n",
        "- **Description**: This dataset contains hourly data on the traffic volume for westbound I-94, a major interstate highway in the US that connects Minneapolis and St Paul, Minnesota. The data was collected by the Minnesota Department of Transportation (MnDOT) from 2012 to 2018 at a station roughly midway between the two cities.\n",
        "- **Time Period**: Starting from 18-11-2016\n",
        "- **Frequency**: Hourly observations\n",
        "\n",
        "### Features:\n",
        "\n",
        "1. **temp:** a numeric variable that shows the average temperature in kelvin.\n",
        "2. **rain_1h:** a numeric variable that shows the amount of rain in mm that occurred in the hour.\n",
        "3. **snow_1h:** a numeric variable that shows the amount of snow in mm that occurred in the hour.\n",
        "4. **clouds_all:** a numeric variable that shows the percentage of cloud cover.\n",
        "5. **weather_main:** a categorical variable that gives a short textual description of the current weather (such as Clear, Clouds, Rain, etc.).\n",
        "6. **weather_description:** a categorical variable that gives a longer textual description of the current weather (such as light rain, overcast clouds, etc.).\n",
        "7. **date_time:** a datetime variable that shows the hour of the data collected in local CST time.\n",
        "8. **traffic_volume:** a numeric variable that shows the hourly I-94 reported westbound traffic volume.\n",
        "\n",
        "#### Feel free to add or rearrange steps as you see fit to optimize your workflow. One additional note: the model's performance doesn't need to be 100% accurate. Instead, focus on achieving the best possible results while balancing performance and generalization."
      ]
    },
    {
      "cell_type": "markdown",
      "id": "9d58f5eb",
      "metadata": {
        "id": "9d58f5eb"
      },
      "source": [
        "## Load the Data\n",
        "\n",
        "Load the time series dataset into a pandas DataFrame.\n",
        "\n",
        "**Instructions:**\n",
        "- Use `pandas` to load your dataset.\n",
        "- Display the first few rows to understand its structure.\n",
        "- Make sure the datetime column is correctly parsed."
      ]
    },
    {
      "cell_type": "code",
      "source": [
        "import pandas as pd\n",
        "import datetime as dt\n",
        "import matplotlib.pyplot as plt\n",
        "import seaborn as sns\n",
        "import random\n",
        "import tensorflow as tf\n",
        "from keras.models import Sequential\n",
        "from keras.layers import Dense, Dropout, LSTM, SimpleRNN\n",
        "from keras.callbacks import EarlyStopping\n",
        "from sklearn.preprocessing import MinMaxScaler\n",
        "import  numpy as np\n",
        "from sklearn.metrics import mean_squared_error\n",
        "from sklearn.metrics import r2_score"
      ],
      "metadata": {
        "id": "7oZ3Af2X-HPs"
      },
      "id": "7oZ3Af2X-HPs",
      "execution_count": 63,
      "outputs": []
    },
    {
      "cell_type": "code",
      "source": [
        "from google.colab import drive\n",
        "drive.mount('/content/drive')"
      ],
      "metadata": {
        "id": "bDmw4DuU6ak2",
        "colab": {
          "base_uri": "https://localhost:8080/"
        },
        "outputId": "c48435fe-6988-4b25-d52a-7f180dbf2ae3"
      },
      "id": "bDmw4DuU6ak2",
      "execution_count": 23,
      "outputs": [
        {
          "output_type": "stream",
          "name": "stdout",
          "text": [
            "Drive already mounted at /content/drive; to attempt to forcibly remount, call drive.mount(\"/content/drive\", force_remount=True).\n"
          ]
        }
      ]
    },
    {
      "cell_type": "code",
      "source": [
        "df = pd.read_csv('/content/drive/MyDrive/Twaiq/Traffic Data.csv', parse_dates=['date_time'], index_col=['date_time'])\n",
        "df.head()"
      ],
      "metadata": {
        "id": "jH1agpz_6dM1",
        "colab": {
          "base_uri": "https://localhost:8080/",
          "height": 257
        },
        "outputId": "633c71e5-c78b-4221-e11c-ebcc6b7733a8"
      },
      "id": "jH1agpz_6dM1",
      "execution_count": 24,
      "outputs": [
        {
          "output_type": "execute_result",
          "data": {
            "text/plain": [
              "                     traffic_volume    temp  rain_1h  snow_1h  clouds_all  \\\n",
              "date_time                                                                   \n",
              "2017-08-27 01:00:00          1209.0  291.15      0.0      0.0          90   \n",
              "2018-09-06 23:00:00          1248.0  286.01      0.0      0.0           1   \n",
              "2017-08-25 18:00:00          4602.0  293.69      0.0      0.0          75   \n",
              "2017-11-09 22:00:00          2838.0  262.35      0.0      0.0           1   \n",
              "2017-11-09 15:00:00          5794.0  267.08      0.0      0.0           5   \n",
              "\n",
              "                    weather_main weather_description  \n",
              "date_time                                             \n",
              "2017-08-27 01:00:00         Mist                mist  \n",
              "2018-09-06 23:00:00        Clear        sky is clear  \n",
              "2017-08-25 18:00:00       Clouds       broken clouds  \n",
              "2017-11-09 22:00:00        Clear        sky is clear  \n",
              "2017-11-09 15:00:00        Clear        sky is clear  "
            ],
            "text/html": [
              "\n",
              "  <div id=\"df-0660b48f-5f22-4e7a-95ca-cdbdf21e5fe6\" class=\"colab-df-container\">\n",
              "    <div>\n",
              "<style scoped>\n",
              "    .dataframe tbody tr th:only-of-type {\n",
              "        vertical-align: middle;\n",
              "    }\n",
              "\n",
              "    .dataframe tbody tr th {\n",
              "        vertical-align: top;\n",
              "    }\n",
              "\n",
              "    .dataframe thead th {\n",
              "        text-align: right;\n",
              "    }\n",
              "</style>\n",
              "<table border=\"1\" class=\"dataframe\">\n",
              "  <thead>\n",
              "    <tr style=\"text-align: right;\">\n",
              "      <th></th>\n",
              "      <th>traffic_volume</th>\n",
              "      <th>temp</th>\n",
              "      <th>rain_1h</th>\n",
              "      <th>snow_1h</th>\n",
              "      <th>clouds_all</th>\n",
              "      <th>weather_main</th>\n",
              "      <th>weather_description</th>\n",
              "    </tr>\n",
              "    <tr>\n",
              "      <th>date_time</th>\n",
              "      <th></th>\n",
              "      <th></th>\n",
              "      <th></th>\n",
              "      <th></th>\n",
              "      <th></th>\n",
              "      <th></th>\n",
              "      <th></th>\n",
              "    </tr>\n",
              "  </thead>\n",
              "  <tbody>\n",
              "    <tr>\n",
              "      <th>2017-08-27 01:00:00</th>\n",
              "      <td>1209.0</td>\n",
              "      <td>291.15</td>\n",
              "      <td>0.0</td>\n",
              "      <td>0.0</td>\n",
              "      <td>90</td>\n",
              "      <td>Mist</td>\n",
              "      <td>mist</td>\n",
              "    </tr>\n",
              "    <tr>\n",
              "      <th>2018-09-06 23:00:00</th>\n",
              "      <td>1248.0</td>\n",
              "      <td>286.01</td>\n",
              "      <td>0.0</td>\n",
              "      <td>0.0</td>\n",
              "      <td>1</td>\n",
              "      <td>Clear</td>\n",
              "      <td>sky is clear</td>\n",
              "    </tr>\n",
              "    <tr>\n",
              "      <th>2017-08-25 18:00:00</th>\n",
              "      <td>4602.0</td>\n",
              "      <td>293.69</td>\n",
              "      <td>0.0</td>\n",
              "      <td>0.0</td>\n",
              "      <td>75</td>\n",
              "      <td>Clouds</td>\n",
              "      <td>broken clouds</td>\n",
              "    </tr>\n",
              "    <tr>\n",
              "      <th>2017-11-09 22:00:00</th>\n",
              "      <td>2838.0</td>\n",
              "      <td>262.35</td>\n",
              "      <td>0.0</td>\n",
              "      <td>0.0</td>\n",
              "      <td>1</td>\n",
              "      <td>Clear</td>\n",
              "      <td>sky is clear</td>\n",
              "    </tr>\n",
              "    <tr>\n",
              "      <th>2017-11-09 15:00:00</th>\n",
              "      <td>5794.0</td>\n",
              "      <td>267.08</td>\n",
              "      <td>0.0</td>\n",
              "      <td>0.0</td>\n",
              "      <td>5</td>\n",
              "      <td>Clear</td>\n",
              "      <td>sky is clear</td>\n",
              "    </tr>\n",
              "  </tbody>\n",
              "</table>\n",
              "</div>\n",
              "    <div class=\"colab-df-buttons\">\n",
              "\n",
              "  <div class=\"colab-df-container\">\n",
              "    <button class=\"colab-df-convert\" onclick=\"convertToInteractive('df-0660b48f-5f22-4e7a-95ca-cdbdf21e5fe6')\"\n",
              "            title=\"Convert this dataframe to an interactive table.\"\n",
              "            style=\"display:none;\">\n",
              "\n",
              "  <svg xmlns=\"http://www.w3.org/2000/svg\" height=\"24px\" viewBox=\"0 -960 960 960\">\n",
              "    <path d=\"M120-120v-720h720v720H120Zm60-500h600v-160H180v160Zm220 220h160v-160H400v160Zm0 220h160v-160H400v160ZM180-400h160v-160H180v160Zm440 0h160v-160H620v160ZM180-180h160v-160H180v160Zm440 0h160v-160H620v160Z\"/>\n",
              "  </svg>\n",
              "    </button>\n",
              "\n",
              "  <style>\n",
              "    .colab-df-container {\n",
              "      display:flex;\n",
              "      gap: 12px;\n",
              "    }\n",
              "\n",
              "    .colab-df-convert {\n",
              "      background-color: #E8F0FE;\n",
              "      border: none;\n",
              "      border-radius: 50%;\n",
              "      cursor: pointer;\n",
              "      display: none;\n",
              "      fill: #1967D2;\n",
              "      height: 32px;\n",
              "      padding: 0 0 0 0;\n",
              "      width: 32px;\n",
              "    }\n",
              "\n",
              "    .colab-df-convert:hover {\n",
              "      background-color: #E2EBFA;\n",
              "      box-shadow: 0px 1px 2px rgba(60, 64, 67, 0.3), 0px 1px 3px 1px rgba(60, 64, 67, 0.15);\n",
              "      fill: #174EA6;\n",
              "    }\n",
              "\n",
              "    .colab-df-buttons div {\n",
              "      margin-bottom: 4px;\n",
              "    }\n",
              "\n",
              "    [theme=dark] .colab-df-convert {\n",
              "      background-color: #3B4455;\n",
              "      fill: #D2E3FC;\n",
              "    }\n",
              "\n",
              "    [theme=dark] .colab-df-convert:hover {\n",
              "      background-color: #434B5C;\n",
              "      box-shadow: 0px 1px 3px 1px rgba(0, 0, 0, 0.15);\n",
              "      filter: drop-shadow(0px 1px 2px rgba(0, 0, 0, 0.3));\n",
              "      fill: #FFFFFF;\n",
              "    }\n",
              "  </style>\n",
              "\n",
              "    <script>\n",
              "      const buttonEl =\n",
              "        document.querySelector('#df-0660b48f-5f22-4e7a-95ca-cdbdf21e5fe6 button.colab-df-convert');\n",
              "      buttonEl.style.display =\n",
              "        google.colab.kernel.accessAllowed ? 'block' : 'none';\n",
              "\n",
              "      async function convertToInteractive(key) {\n",
              "        const element = document.querySelector('#df-0660b48f-5f22-4e7a-95ca-cdbdf21e5fe6');\n",
              "        const dataTable =\n",
              "          await google.colab.kernel.invokeFunction('convertToInteractive',\n",
              "                                                    [key], {});\n",
              "        if (!dataTable) return;\n",
              "\n",
              "        const docLinkHtml = 'Like what you see? Visit the ' +\n",
              "          '<a target=\"_blank\" href=https://colab.research.google.com/notebooks/data_table.ipynb>data table notebook</a>'\n",
              "          + ' to learn more about interactive tables.';\n",
              "        element.innerHTML = '';\n",
              "        dataTable['output_type'] = 'display_data';\n",
              "        await google.colab.output.renderOutput(dataTable, element);\n",
              "        const docLink = document.createElement('div');\n",
              "        docLink.innerHTML = docLinkHtml;\n",
              "        element.appendChild(docLink);\n",
              "      }\n",
              "    </script>\n",
              "  </div>\n",
              "\n",
              "\n",
              "<div id=\"df-4761edeb-0eba-49b3-9662-a900070f96fe\">\n",
              "  <button class=\"colab-df-quickchart\" onclick=\"quickchart('df-4761edeb-0eba-49b3-9662-a900070f96fe')\"\n",
              "            title=\"Suggest charts\"\n",
              "            style=\"display:none;\">\n",
              "\n",
              "<svg xmlns=\"http://www.w3.org/2000/svg\" height=\"24px\"viewBox=\"0 0 24 24\"\n",
              "     width=\"24px\">\n",
              "    <g>\n",
              "        <path d=\"M19 3H5c-1.1 0-2 .9-2 2v14c0 1.1.9 2 2 2h14c1.1 0 2-.9 2-2V5c0-1.1-.9-2-2-2zM9 17H7v-7h2v7zm4 0h-2V7h2v10zm4 0h-2v-4h2v4z\"/>\n",
              "    </g>\n",
              "</svg>\n",
              "  </button>\n",
              "\n",
              "<style>\n",
              "  .colab-df-quickchart {\n",
              "      --bg-color: #E8F0FE;\n",
              "      --fill-color: #1967D2;\n",
              "      --hover-bg-color: #E2EBFA;\n",
              "      --hover-fill-color: #174EA6;\n",
              "      --disabled-fill-color: #AAA;\n",
              "      --disabled-bg-color: #DDD;\n",
              "  }\n",
              "\n",
              "  [theme=dark] .colab-df-quickchart {\n",
              "      --bg-color: #3B4455;\n",
              "      --fill-color: #D2E3FC;\n",
              "      --hover-bg-color: #434B5C;\n",
              "      --hover-fill-color: #FFFFFF;\n",
              "      --disabled-bg-color: #3B4455;\n",
              "      --disabled-fill-color: #666;\n",
              "  }\n",
              "\n",
              "  .colab-df-quickchart {\n",
              "    background-color: var(--bg-color);\n",
              "    border: none;\n",
              "    border-radius: 50%;\n",
              "    cursor: pointer;\n",
              "    display: none;\n",
              "    fill: var(--fill-color);\n",
              "    height: 32px;\n",
              "    padding: 0;\n",
              "    width: 32px;\n",
              "  }\n",
              "\n",
              "  .colab-df-quickchart:hover {\n",
              "    background-color: var(--hover-bg-color);\n",
              "    box-shadow: 0 1px 2px rgba(60, 64, 67, 0.3), 0 1px 3px 1px rgba(60, 64, 67, 0.15);\n",
              "    fill: var(--button-hover-fill-color);\n",
              "  }\n",
              "\n",
              "  .colab-df-quickchart-complete:disabled,\n",
              "  .colab-df-quickchart-complete:disabled:hover {\n",
              "    background-color: var(--disabled-bg-color);\n",
              "    fill: var(--disabled-fill-color);\n",
              "    box-shadow: none;\n",
              "  }\n",
              "\n",
              "  .colab-df-spinner {\n",
              "    border: 2px solid var(--fill-color);\n",
              "    border-color: transparent;\n",
              "    border-bottom-color: var(--fill-color);\n",
              "    animation:\n",
              "      spin 1s steps(1) infinite;\n",
              "  }\n",
              "\n",
              "  @keyframes spin {\n",
              "    0% {\n",
              "      border-color: transparent;\n",
              "      border-bottom-color: var(--fill-color);\n",
              "      border-left-color: var(--fill-color);\n",
              "    }\n",
              "    20% {\n",
              "      border-color: transparent;\n",
              "      border-left-color: var(--fill-color);\n",
              "      border-top-color: var(--fill-color);\n",
              "    }\n",
              "    30% {\n",
              "      border-color: transparent;\n",
              "      border-left-color: var(--fill-color);\n",
              "      border-top-color: var(--fill-color);\n",
              "      border-right-color: var(--fill-color);\n",
              "    }\n",
              "    40% {\n",
              "      border-color: transparent;\n",
              "      border-right-color: var(--fill-color);\n",
              "      border-top-color: var(--fill-color);\n",
              "    }\n",
              "    60% {\n",
              "      border-color: transparent;\n",
              "      border-right-color: var(--fill-color);\n",
              "    }\n",
              "    80% {\n",
              "      border-color: transparent;\n",
              "      border-right-color: var(--fill-color);\n",
              "      border-bottom-color: var(--fill-color);\n",
              "    }\n",
              "    90% {\n",
              "      border-color: transparent;\n",
              "      border-bottom-color: var(--fill-color);\n",
              "    }\n",
              "  }\n",
              "</style>\n",
              "\n",
              "  <script>\n",
              "    async function quickchart(key) {\n",
              "      const quickchartButtonEl =\n",
              "        document.querySelector('#' + key + ' button');\n",
              "      quickchartButtonEl.disabled = true;  // To prevent multiple clicks.\n",
              "      quickchartButtonEl.classList.add('colab-df-spinner');\n",
              "      try {\n",
              "        const charts = await google.colab.kernel.invokeFunction(\n",
              "            'suggestCharts', [key], {});\n",
              "      } catch (error) {\n",
              "        console.error('Error during call to suggestCharts:', error);\n",
              "      }\n",
              "      quickchartButtonEl.classList.remove('colab-df-spinner');\n",
              "      quickchartButtonEl.classList.add('colab-df-quickchart-complete');\n",
              "    }\n",
              "    (() => {\n",
              "      let quickchartButtonEl =\n",
              "        document.querySelector('#df-4761edeb-0eba-49b3-9662-a900070f96fe button');\n",
              "      quickchartButtonEl.style.display =\n",
              "        google.colab.kernel.accessAllowed ? 'block' : 'none';\n",
              "    })();\n",
              "  </script>\n",
              "</div>\n",
              "\n",
              "    </div>\n",
              "  </div>\n"
            ],
            "application/vnd.google.colaboratory.intrinsic+json": {
              "type": "dataframe",
              "variable_name": "df",
              "summary": "{\n  \"name\": \"df\",\n  \"rows\": 20000,\n  \"fields\": [\n    {\n      \"column\": \"date_time\",\n      \"properties\": {\n        \"dtype\": \"date\",\n        \"min\": \"2016-11-18 15:00:00\",\n        \"max\": \"2018-09-30 23:00:00\",\n        \"num_unique_values\": 16269,\n        \"samples\": [\n          \"2016-12-24 10:00:00\",\n          \"2017-06-16 05:00:00\",\n          \"2017-09-16 20:00:00\"\n        ],\n        \"semantic_type\": \"\",\n        \"description\": \"\"\n      }\n    },\n    {\n      \"column\": \"traffic_volume\",\n      \"properties\": {\n        \"dtype\": \"number\",\n        \"std\": 1977.1713566381657,\n        \"min\": 113.0,\n        \"max\": 16781.0,\n        \"num_unique_values\": 5754,\n        \"samples\": [\n          2816.0,\n          6722.0,\n          3569.0\n        ],\n        \"semantic_type\": \"\",\n        \"description\": \"\"\n      }\n    },\n    {\n      \"column\": \"temp\",\n      \"properties\": {\n        \"dtype\": \"number\",\n        \"std\": 12.6612879499204,\n        \"min\": 243.39,\n        \"max\": 310.07,\n        \"num_unique_values\": 3901,\n        \"samples\": [\n          286.45,\n          262.46,\n          260.76\n        ],\n        \"semantic_type\": \"\",\n        \"description\": \"\"\n      }\n    },\n    {\n      \"column\": \"rain_1h\",\n      \"properties\": {\n        \"dtype\": \"number\",\n        \"std\": 0.39800673492769245,\n        \"min\": 0.0,\n        \"max\": 10.6,\n        \"num_unique_values\": 87,\n        \"samples\": [\n          5.62,\n          0.0,\n          0.76\n        ],\n        \"semantic_type\": \"\",\n        \"description\": \"\"\n      }\n    },\n    {\n      \"column\": \"snow_1h\",\n      \"properties\": {\n        \"dtype\": \"number\",\n        \"std\": 0.0,\n        \"min\": 0.0,\n        \"max\": 0.0,\n        \"num_unique_values\": 1,\n        \"samples\": [\n          0.0\n        ],\n        \"semantic_type\": \"\",\n        \"description\": \"\"\n      }\n    },\n    {\n      \"column\": \"clouds_all\",\n      \"properties\": {\n        \"dtype\": \"number\",\n        \"std\": 39,\n        \"min\": 0,\n        \"max\": 92,\n        \"num_unique_values\": 21,\n        \"samples\": [\n          90\n        ],\n        \"semantic_type\": \"\",\n        \"description\": \"\"\n      }\n    },\n    {\n      \"column\": \"weather_main\",\n      \"properties\": {\n        \"dtype\": \"category\",\n        \"num_unique_values\": 10,\n        \"samples\": [\n          \"Haze\"\n        ],\n        \"semantic_type\": \"\",\n        \"description\": \"\"\n      }\n    },\n    {\n      \"column\": \"weather_description\",\n      \"properties\": {\n        \"dtype\": \"category\",\n        \"num_unique_values\": 34,\n        \"samples\": [\n          \"heavy intensity rain\"\n        ],\n        \"semantic_type\": \"\",\n        \"description\": \"\"\n      }\n    }\n  ]\n}"
            }
          },
          "metadata": {},
          "execution_count": 24
        }
      ]
    },
    {
      "cell_type": "code",
      "source": [
        "df.info()"
      ],
      "metadata": {
        "id": "21E_e__p79Eh",
        "colab": {
          "base_uri": "https://localhost:8080/"
        },
        "outputId": "8326d19b-6dec-47e3-f837-181e1bdb6fd6"
      },
      "id": "21E_e__p79Eh",
      "execution_count": 25,
      "outputs": [
        {
          "output_type": "stream",
          "name": "stdout",
          "text": [
            "<class 'pandas.core.frame.DataFrame'>\n",
            "DatetimeIndex: 20000 entries, 2017-08-27 01:00:00 to 2018-05-31 18:00:00\n",
            "Data columns (total 7 columns):\n",
            " #   Column               Non-Null Count  Dtype  \n",
            "---  ------               --------------  -----  \n",
            " 0   traffic_volume       19980 non-null  float64\n",
            " 1   temp                 20000 non-null  float64\n",
            " 2   rain_1h              20000 non-null  float64\n",
            " 3   snow_1h              20000 non-null  float64\n",
            " 4   clouds_all           20000 non-null  int64  \n",
            " 5   weather_main         20000 non-null  object \n",
            " 6   weather_description  20000 non-null  object \n",
            "dtypes: float64(4), int64(1), object(2)\n",
            "memory usage: 1.2+ MB\n"
          ]
        }
      ]
    },
    {
      "cell_type": "code",
      "source": [
        "df['date'] = df.index.date\n",
        "df['time'] = df.index.time"
      ],
      "metadata": {
        "id": "dcuDxyU9CODm"
      },
      "id": "dcuDxyU9CODm",
      "execution_count": 26,
      "outputs": []
    },
    {
      "cell_type": "code",
      "source": [
        "df.head()"
      ],
      "metadata": {
        "id": "ywRT19OxCQIU",
        "colab": {
          "base_uri": "https://localhost:8080/",
          "height": 257
        },
        "outputId": "67e0d2e6-e598-49bb-d19e-dd3428c349ed"
      },
      "id": "ywRT19OxCQIU",
      "execution_count": 27,
      "outputs": [
        {
          "output_type": "execute_result",
          "data": {
            "text/plain": [
              "                     traffic_volume    temp  rain_1h  snow_1h  clouds_all  \\\n",
              "date_time                                                                   \n",
              "2017-08-27 01:00:00          1209.0  291.15      0.0      0.0          90   \n",
              "2018-09-06 23:00:00          1248.0  286.01      0.0      0.0           1   \n",
              "2017-08-25 18:00:00          4602.0  293.69      0.0      0.0          75   \n",
              "2017-11-09 22:00:00          2838.0  262.35      0.0      0.0           1   \n",
              "2017-11-09 15:00:00          5794.0  267.08      0.0      0.0           5   \n",
              "\n",
              "                    weather_main weather_description        date      time  \n",
              "date_time                                                                   \n",
              "2017-08-27 01:00:00         Mist                mist  2017-08-27  01:00:00  \n",
              "2018-09-06 23:00:00        Clear        sky is clear  2018-09-06  23:00:00  \n",
              "2017-08-25 18:00:00       Clouds       broken clouds  2017-08-25  18:00:00  \n",
              "2017-11-09 22:00:00        Clear        sky is clear  2017-11-09  22:00:00  \n",
              "2017-11-09 15:00:00        Clear        sky is clear  2017-11-09  15:00:00  "
            ],
            "text/html": [
              "\n",
              "  <div id=\"df-fd3fa30a-30b6-44f8-9486-603bf9edbc9f\" class=\"colab-df-container\">\n",
              "    <div>\n",
              "<style scoped>\n",
              "    .dataframe tbody tr th:only-of-type {\n",
              "        vertical-align: middle;\n",
              "    }\n",
              "\n",
              "    .dataframe tbody tr th {\n",
              "        vertical-align: top;\n",
              "    }\n",
              "\n",
              "    .dataframe thead th {\n",
              "        text-align: right;\n",
              "    }\n",
              "</style>\n",
              "<table border=\"1\" class=\"dataframe\">\n",
              "  <thead>\n",
              "    <tr style=\"text-align: right;\">\n",
              "      <th></th>\n",
              "      <th>traffic_volume</th>\n",
              "      <th>temp</th>\n",
              "      <th>rain_1h</th>\n",
              "      <th>snow_1h</th>\n",
              "      <th>clouds_all</th>\n",
              "      <th>weather_main</th>\n",
              "      <th>weather_description</th>\n",
              "      <th>date</th>\n",
              "      <th>time</th>\n",
              "    </tr>\n",
              "    <tr>\n",
              "      <th>date_time</th>\n",
              "      <th></th>\n",
              "      <th></th>\n",
              "      <th></th>\n",
              "      <th></th>\n",
              "      <th></th>\n",
              "      <th></th>\n",
              "      <th></th>\n",
              "      <th></th>\n",
              "      <th></th>\n",
              "    </tr>\n",
              "  </thead>\n",
              "  <tbody>\n",
              "    <tr>\n",
              "      <th>2017-08-27 01:00:00</th>\n",
              "      <td>1209.0</td>\n",
              "      <td>291.15</td>\n",
              "      <td>0.0</td>\n",
              "      <td>0.0</td>\n",
              "      <td>90</td>\n",
              "      <td>Mist</td>\n",
              "      <td>mist</td>\n",
              "      <td>2017-08-27</td>\n",
              "      <td>01:00:00</td>\n",
              "    </tr>\n",
              "    <tr>\n",
              "      <th>2018-09-06 23:00:00</th>\n",
              "      <td>1248.0</td>\n",
              "      <td>286.01</td>\n",
              "      <td>0.0</td>\n",
              "      <td>0.0</td>\n",
              "      <td>1</td>\n",
              "      <td>Clear</td>\n",
              "      <td>sky is clear</td>\n",
              "      <td>2018-09-06</td>\n",
              "      <td>23:00:00</td>\n",
              "    </tr>\n",
              "    <tr>\n",
              "      <th>2017-08-25 18:00:00</th>\n",
              "      <td>4602.0</td>\n",
              "      <td>293.69</td>\n",
              "      <td>0.0</td>\n",
              "      <td>0.0</td>\n",
              "      <td>75</td>\n",
              "      <td>Clouds</td>\n",
              "      <td>broken clouds</td>\n",
              "      <td>2017-08-25</td>\n",
              "      <td>18:00:00</td>\n",
              "    </tr>\n",
              "    <tr>\n",
              "      <th>2017-11-09 22:00:00</th>\n",
              "      <td>2838.0</td>\n",
              "      <td>262.35</td>\n",
              "      <td>0.0</td>\n",
              "      <td>0.0</td>\n",
              "      <td>1</td>\n",
              "      <td>Clear</td>\n",
              "      <td>sky is clear</td>\n",
              "      <td>2017-11-09</td>\n",
              "      <td>22:00:00</td>\n",
              "    </tr>\n",
              "    <tr>\n",
              "      <th>2017-11-09 15:00:00</th>\n",
              "      <td>5794.0</td>\n",
              "      <td>267.08</td>\n",
              "      <td>0.0</td>\n",
              "      <td>0.0</td>\n",
              "      <td>5</td>\n",
              "      <td>Clear</td>\n",
              "      <td>sky is clear</td>\n",
              "      <td>2017-11-09</td>\n",
              "      <td>15:00:00</td>\n",
              "    </tr>\n",
              "  </tbody>\n",
              "</table>\n",
              "</div>\n",
              "    <div class=\"colab-df-buttons\">\n",
              "\n",
              "  <div class=\"colab-df-container\">\n",
              "    <button class=\"colab-df-convert\" onclick=\"convertToInteractive('df-fd3fa30a-30b6-44f8-9486-603bf9edbc9f')\"\n",
              "            title=\"Convert this dataframe to an interactive table.\"\n",
              "            style=\"display:none;\">\n",
              "\n",
              "  <svg xmlns=\"http://www.w3.org/2000/svg\" height=\"24px\" viewBox=\"0 -960 960 960\">\n",
              "    <path d=\"M120-120v-720h720v720H120Zm60-500h600v-160H180v160Zm220 220h160v-160H400v160Zm0 220h160v-160H400v160ZM180-400h160v-160H180v160Zm440 0h160v-160H620v160ZM180-180h160v-160H180v160Zm440 0h160v-160H620v160Z\"/>\n",
              "  </svg>\n",
              "    </button>\n",
              "\n",
              "  <style>\n",
              "    .colab-df-container {\n",
              "      display:flex;\n",
              "      gap: 12px;\n",
              "    }\n",
              "\n",
              "    .colab-df-convert {\n",
              "      background-color: #E8F0FE;\n",
              "      border: none;\n",
              "      border-radius: 50%;\n",
              "      cursor: pointer;\n",
              "      display: none;\n",
              "      fill: #1967D2;\n",
              "      height: 32px;\n",
              "      padding: 0 0 0 0;\n",
              "      width: 32px;\n",
              "    }\n",
              "\n",
              "    .colab-df-convert:hover {\n",
              "      background-color: #E2EBFA;\n",
              "      box-shadow: 0px 1px 2px rgba(60, 64, 67, 0.3), 0px 1px 3px 1px rgba(60, 64, 67, 0.15);\n",
              "      fill: #174EA6;\n",
              "    }\n",
              "\n",
              "    .colab-df-buttons div {\n",
              "      margin-bottom: 4px;\n",
              "    }\n",
              "\n",
              "    [theme=dark] .colab-df-convert {\n",
              "      background-color: #3B4455;\n",
              "      fill: #D2E3FC;\n",
              "    }\n",
              "\n",
              "    [theme=dark] .colab-df-convert:hover {\n",
              "      background-color: #434B5C;\n",
              "      box-shadow: 0px 1px 3px 1px rgba(0, 0, 0, 0.15);\n",
              "      filter: drop-shadow(0px 1px 2px rgba(0, 0, 0, 0.3));\n",
              "      fill: #FFFFFF;\n",
              "    }\n",
              "  </style>\n",
              "\n",
              "    <script>\n",
              "      const buttonEl =\n",
              "        document.querySelector('#df-fd3fa30a-30b6-44f8-9486-603bf9edbc9f button.colab-df-convert');\n",
              "      buttonEl.style.display =\n",
              "        google.colab.kernel.accessAllowed ? 'block' : 'none';\n",
              "\n",
              "      async function convertToInteractive(key) {\n",
              "        const element = document.querySelector('#df-fd3fa30a-30b6-44f8-9486-603bf9edbc9f');\n",
              "        const dataTable =\n",
              "          await google.colab.kernel.invokeFunction('convertToInteractive',\n",
              "                                                    [key], {});\n",
              "        if (!dataTable) return;\n",
              "\n",
              "        const docLinkHtml = 'Like what you see? Visit the ' +\n",
              "          '<a target=\"_blank\" href=https://colab.research.google.com/notebooks/data_table.ipynb>data table notebook</a>'\n",
              "          + ' to learn more about interactive tables.';\n",
              "        element.innerHTML = '';\n",
              "        dataTable['output_type'] = 'display_data';\n",
              "        await google.colab.output.renderOutput(dataTable, element);\n",
              "        const docLink = document.createElement('div');\n",
              "        docLink.innerHTML = docLinkHtml;\n",
              "        element.appendChild(docLink);\n",
              "      }\n",
              "    </script>\n",
              "  </div>\n",
              "\n",
              "\n",
              "<div id=\"df-e3c7c26d-124e-4c1c-94c4-16b87edfe0d0\">\n",
              "  <button class=\"colab-df-quickchart\" onclick=\"quickchart('df-e3c7c26d-124e-4c1c-94c4-16b87edfe0d0')\"\n",
              "            title=\"Suggest charts\"\n",
              "            style=\"display:none;\">\n",
              "\n",
              "<svg xmlns=\"http://www.w3.org/2000/svg\" height=\"24px\"viewBox=\"0 0 24 24\"\n",
              "     width=\"24px\">\n",
              "    <g>\n",
              "        <path d=\"M19 3H5c-1.1 0-2 .9-2 2v14c0 1.1.9 2 2 2h14c1.1 0 2-.9 2-2V5c0-1.1-.9-2-2-2zM9 17H7v-7h2v7zm4 0h-2V7h2v10zm4 0h-2v-4h2v4z\"/>\n",
              "    </g>\n",
              "</svg>\n",
              "  </button>\n",
              "\n",
              "<style>\n",
              "  .colab-df-quickchart {\n",
              "      --bg-color: #E8F0FE;\n",
              "      --fill-color: #1967D2;\n",
              "      --hover-bg-color: #E2EBFA;\n",
              "      --hover-fill-color: #174EA6;\n",
              "      --disabled-fill-color: #AAA;\n",
              "      --disabled-bg-color: #DDD;\n",
              "  }\n",
              "\n",
              "  [theme=dark] .colab-df-quickchart {\n",
              "      --bg-color: #3B4455;\n",
              "      --fill-color: #D2E3FC;\n",
              "      --hover-bg-color: #434B5C;\n",
              "      --hover-fill-color: #FFFFFF;\n",
              "      --disabled-bg-color: #3B4455;\n",
              "      --disabled-fill-color: #666;\n",
              "  }\n",
              "\n",
              "  .colab-df-quickchart {\n",
              "    background-color: var(--bg-color);\n",
              "    border: none;\n",
              "    border-radius: 50%;\n",
              "    cursor: pointer;\n",
              "    display: none;\n",
              "    fill: var(--fill-color);\n",
              "    height: 32px;\n",
              "    padding: 0;\n",
              "    width: 32px;\n",
              "  }\n",
              "\n",
              "  .colab-df-quickchart:hover {\n",
              "    background-color: var(--hover-bg-color);\n",
              "    box-shadow: 0 1px 2px rgba(60, 64, 67, 0.3), 0 1px 3px 1px rgba(60, 64, 67, 0.15);\n",
              "    fill: var(--button-hover-fill-color);\n",
              "  }\n",
              "\n",
              "  .colab-df-quickchart-complete:disabled,\n",
              "  .colab-df-quickchart-complete:disabled:hover {\n",
              "    background-color: var(--disabled-bg-color);\n",
              "    fill: var(--disabled-fill-color);\n",
              "    box-shadow: none;\n",
              "  }\n",
              "\n",
              "  .colab-df-spinner {\n",
              "    border: 2px solid var(--fill-color);\n",
              "    border-color: transparent;\n",
              "    border-bottom-color: var(--fill-color);\n",
              "    animation:\n",
              "      spin 1s steps(1) infinite;\n",
              "  }\n",
              "\n",
              "  @keyframes spin {\n",
              "    0% {\n",
              "      border-color: transparent;\n",
              "      border-bottom-color: var(--fill-color);\n",
              "      border-left-color: var(--fill-color);\n",
              "    }\n",
              "    20% {\n",
              "      border-color: transparent;\n",
              "      border-left-color: var(--fill-color);\n",
              "      border-top-color: var(--fill-color);\n",
              "    }\n",
              "    30% {\n",
              "      border-color: transparent;\n",
              "      border-left-color: var(--fill-color);\n",
              "      border-top-color: var(--fill-color);\n",
              "      border-right-color: var(--fill-color);\n",
              "    }\n",
              "    40% {\n",
              "      border-color: transparent;\n",
              "      border-right-color: var(--fill-color);\n",
              "      border-top-color: var(--fill-color);\n",
              "    }\n",
              "    60% {\n",
              "      border-color: transparent;\n",
              "      border-right-color: var(--fill-color);\n",
              "    }\n",
              "    80% {\n",
              "      border-color: transparent;\n",
              "      border-right-color: var(--fill-color);\n",
              "      border-bottom-color: var(--fill-color);\n",
              "    }\n",
              "    90% {\n",
              "      border-color: transparent;\n",
              "      border-bottom-color: var(--fill-color);\n",
              "    }\n",
              "  }\n",
              "</style>\n",
              "\n",
              "  <script>\n",
              "    async function quickchart(key) {\n",
              "      const quickchartButtonEl =\n",
              "        document.querySelector('#' + key + ' button');\n",
              "      quickchartButtonEl.disabled = true;  // To prevent multiple clicks.\n",
              "      quickchartButtonEl.classList.add('colab-df-spinner');\n",
              "      try {\n",
              "        const charts = await google.colab.kernel.invokeFunction(\n",
              "            'suggestCharts', [key], {});\n",
              "      } catch (error) {\n",
              "        console.error('Error during call to suggestCharts:', error);\n",
              "      }\n",
              "      quickchartButtonEl.classList.remove('colab-df-spinner');\n",
              "      quickchartButtonEl.classList.add('colab-df-quickchart-complete');\n",
              "    }\n",
              "    (() => {\n",
              "      let quickchartButtonEl =\n",
              "        document.querySelector('#df-e3c7c26d-124e-4c1c-94c4-16b87edfe0d0 button');\n",
              "      quickchartButtonEl.style.display =\n",
              "        google.colab.kernel.accessAllowed ? 'block' : 'none';\n",
              "    })();\n",
              "  </script>\n",
              "</div>\n",
              "\n",
              "    </div>\n",
              "  </div>\n"
            ],
            "application/vnd.google.colaboratory.intrinsic+json": {
              "type": "dataframe",
              "variable_name": "df",
              "summary": "{\n  \"name\": \"df\",\n  \"rows\": 20000,\n  \"fields\": [\n    {\n      \"column\": \"date_time\",\n      \"properties\": {\n        \"dtype\": \"date\",\n        \"min\": \"2016-11-18 15:00:00\",\n        \"max\": \"2018-09-30 23:00:00\",\n        \"num_unique_values\": 16269,\n        \"samples\": [\n          \"2016-12-24 10:00:00\",\n          \"2017-06-16 05:00:00\",\n          \"2017-09-16 20:00:00\"\n        ],\n        \"semantic_type\": \"\",\n        \"description\": \"\"\n      }\n    },\n    {\n      \"column\": \"traffic_volume\",\n      \"properties\": {\n        \"dtype\": \"number\",\n        \"std\": 1977.1713566381657,\n        \"min\": 113.0,\n        \"max\": 16781.0,\n        \"num_unique_values\": 5754,\n        \"samples\": [\n          2816.0,\n          6722.0,\n          3569.0\n        ],\n        \"semantic_type\": \"\",\n        \"description\": \"\"\n      }\n    },\n    {\n      \"column\": \"temp\",\n      \"properties\": {\n        \"dtype\": \"number\",\n        \"std\": 12.6612879499204,\n        \"min\": 243.39,\n        \"max\": 310.07,\n        \"num_unique_values\": 3901,\n        \"samples\": [\n          286.45,\n          262.46,\n          260.76\n        ],\n        \"semantic_type\": \"\",\n        \"description\": \"\"\n      }\n    },\n    {\n      \"column\": \"rain_1h\",\n      \"properties\": {\n        \"dtype\": \"number\",\n        \"std\": 0.39800673492769245,\n        \"min\": 0.0,\n        \"max\": 10.6,\n        \"num_unique_values\": 87,\n        \"samples\": [\n          5.62,\n          0.0,\n          0.76\n        ],\n        \"semantic_type\": \"\",\n        \"description\": \"\"\n      }\n    },\n    {\n      \"column\": \"snow_1h\",\n      \"properties\": {\n        \"dtype\": \"number\",\n        \"std\": 0.0,\n        \"min\": 0.0,\n        \"max\": 0.0,\n        \"num_unique_values\": 1,\n        \"samples\": [\n          0.0\n        ],\n        \"semantic_type\": \"\",\n        \"description\": \"\"\n      }\n    },\n    {\n      \"column\": \"clouds_all\",\n      \"properties\": {\n        \"dtype\": \"number\",\n        \"std\": 39,\n        \"min\": 0,\n        \"max\": 92,\n        \"num_unique_values\": 21,\n        \"samples\": [\n          90\n        ],\n        \"semantic_type\": \"\",\n        \"description\": \"\"\n      }\n    },\n    {\n      \"column\": \"weather_main\",\n      \"properties\": {\n        \"dtype\": \"category\",\n        \"num_unique_values\": 10,\n        \"samples\": [\n          \"Haze\"\n        ],\n        \"semantic_type\": \"\",\n        \"description\": \"\"\n      }\n    },\n    {\n      \"column\": \"weather_description\",\n      \"properties\": {\n        \"dtype\": \"category\",\n        \"num_unique_values\": 34,\n        \"samples\": [\n          \"heavy intensity rain\"\n        ],\n        \"semantic_type\": \"\",\n        \"description\": \"\"\n      }\n    },\n    {\n      \"column\": \"date\",\n      \"properties\": {\n        \"dtype\": \"date\",\n        \"min\": \"2016-11-18\",\n        \"max\": \"2018-09-30\",\n        \"num_unique_values\": 682,\n        \"samples\": [\n          \"2016-11-27\"\n        ],\n        \"semantic_type\": \"\",\n        \"description\": \"\"\n      }\n    },\n    {\n      \"column\": \"time\",\n      \"properties\": {\n        \"dtype\": \"category\",\n        \"num_unique_values\": 24,\n        \"samples\": [\n          \"00:00:00\"\n        ],\n        \"semantic_type\": \"\",\n        \"description\": \"\"\n      }\n    }\n  ]\n}"
            }
          },
          "metadata": {},
          "execution_count": 27
        }
      ]
    },
    {
      "cell_type": "code",
      "source": [
        "df['Time'] = pd.to_datetime(df['time'], format='%H:%M:%S').dt.hour\n"
      ],
      "metadata": {
        "id": "cehxqVvGjpc2"
      },
      "id": "cehxqVvGjpc2",
      "execution_count": 28,
      "outputs": []
    },
    {
      "cell_type": "markdown",
      "id": "c3122466",
      "metadata": {
        "id": "c3122466"
      },
      "source": [
        "## Exploratory Data Analysis (EDA)\n",
        "\n",
        "Perform exploratory data analysis on the dataset.\n",
        "\n",
        "**Instructions:**\n",
        "- Plot the time series data.\n",
        "- Analyze trends, seasonality, and potential outliers.\n",
        "- Plot boxplots or scatter plots to identify any outliers or anomalies in the data.\n",
        "- Seasonal Decomposition: Use `seasonal_decompose` from the `statsmodels` library to break down the time series data into trend, seasonality, and residual components. Analyze each component to gain insights into the long-term movement (trend), regular patterns (seasonality), and remaining fluctuations (residuals).\n",
        "\n",
        "Do more if needed!"
      ]
    },
    {
      "cell_type": "code",
      "execution_count": 29,
      "id": "05f6fffa",
      "metadata": {
        "id": "05f6fffa"
      },
      "outputs": [],
      "source": [
        "def specific_data(traffic, start, end):\n",
        "    traffic_data = df[df['traffic_volume'] == traffic]\n",
        "    date_filtered_data = traffic_data[(traffic_data.index > start) & (traffic_data.index < end)]\n",
        "    return date_filtered_data"
      ]
    },
    {
      "cell_type": "code",
      "source": [
        "hourly_data = df.groupby('Time')['traffic_volume'].mean()\n",
        "\n",
        "plt.figure(figsize=(10, 6))\n",
        "plt.plot(hourly_data.index, hourly_data.values, marker='o')\n",
        "plt.title('Average Hourly Traffic Volume')\n",
        "plt.xlabel('Hour of the Day')\n",
        "plt.ylabel('Traffic Volume')\n",
        "plt.xticks(range(0, 24))\n",
        "plt.grid(True)\n",
        "plt.show()"
      ],
      "metadata": {
        "id": "cfQ-WaGS_7PD",
        "colab": {
          "base_uri": "https://localhost:8080/",
          "height": 584
        },
        "outputId": "b5f79e71-c867-4875-f31f-44ecd2559d48"
      },
      "id": "cfQ-WaGS_7PD",
      "execution_count": 30,
      "outputs": [
        {
          "output_type": "display_data",
          "data": {
            "text/plain": [
              "<Figure size 1000x600 with 1 Axes>"
            ],
            "image/png": "[encoded data removed]"
          },
          "metadata": {}
        }
      ]
    },
    {
      "cell_type": "markdown",
      "id": "5827fb18",
      "metadata": {
        "id": "5827fb18"
      },
      "source": [
        "## Data Preprocessing\n",
        "\n",
        "Clean and preprocess the data.\n",
        "\n",
        "**Instructions:**\n",
        "- Handle any missing values in the dataset.\n",
        "- If necessary, resample the data to ensure consistent time intervals.\n",
        "- Create any additional features needed, such as lags or moving averages.\n",
        "- Make sure that the dates are sorted correctly.\n",
        "\n",
        "Do more if needed!"
      ]
    },
    {
      "cell_type": "code",
      "execution_count": 31,
      "id": "c27410bc",
      "metadata": {
        "id": "c27410bc",
        "colab": {
          "base_uri": "https://localhost:8080/",
          "height": 417
        },
        "outputId": "d5ca8530-3809-4407-b3ea-ae455c56b231"
      },
      "outputs": [
        {
          "output_type": "execute_result",
          "data": {
            "text/plain": [
              "traffic_volume         20\n",
              "temp                    0\n",
              "rain_1h                 0\n",
              "snow_1h                 0\n",
              "clouds_all              0\n",
              "weather_main            0\n",
              "weather_description     0\n",
              "date                    0\n",
              "time                    0\n",
              "Time                    0\n",
              "dtype: int64"
            ],
            "text/html": [
              "<div>\n",
              "<style scoped>\n",
              "    .dataframe tbody tr th:only-of-type {\n",
              "        vertical-align: middle;\n",
              "    }\n",
              "\n",
              "    .dataframe tbody tr th {\n",
              "        vertical-align: top;\n",
              "    }\n",
              "\n",
              "    .dataframe thead th {\n",
              "        text-align: right;\n",
              "    }\n",
              "</style>\n",
              "<table border=\"1\" class=\"dataframe\">\n",
              "  <thead>\n",
              "    <tr style=\"text-align: right;\">\n",
              "      <th></th>\n",
              "      <th>0</th>\n",
              "    </tr>\n",
              "  </thead>\n",
              "  <tbody>\n",
              "    <tr>\n",
              "      <th>traffic_volume</th>\n",
              "      <td>20</td>\n",
              "    </tr>\n",
              "    <tr>\n",
              "      <th>temp</th>\n",
              "      <td>0</td>\n",
              "    </tr>\n",
              "    <tr>\n",
              "      <th>rain_1h</th>\n",
              "      <td>0</td>\n",
              "    </tr>\n",
              "    <tr>\n",
              "      <th>snow_1h</th>\n",
              "      <td>0</td>\n",
              "    </tr>\n",
              "    <tr>\n",
              "      <th>clouds_all</th>\n",
              "      <td>0</td>\n",
              "    </tr>\n",
              "    <tr>\n",
              "      <th>weather_main</th>\n",
              "      <td>0</td>\n",
              "    </tr>\n",
              "    <tr>\n",
              "      <th>weather_description</th>\n",
              "      <td>0</td>\n",
              "    </tr>\n",
              "    <tr>\n",
              "      <th>date</th>\n",
              "      <td>0</td>\n",
              "    </tr>\n",
              "    <tr>\n",
              "      <th>time</th>\n",
              "      <td>0</td>\n",
              "    </tr>\n",
              "    <tr>\n",
              "      <th>Time</th>\n",
              "      <td>0</td>\n",
              "    </tr>\n",
              "  </tbody>\n",
              "</table>\n",
              "</div><br><label><b>dtype:</b> int64</label>"
            ]
          },
          "metadata": {},
          "execution_count": 31
        }
      ],
      "source": [
        "df.isna().sum()"
      ]
    },
    {
      "cell_type": "code",
      "source": [
        "df.isna().sum().dropna()\n",
        "df.dropna(inplace=True)"
      ],
      "metadata": {
        "id": "YfdccoJ9LPTo"
      },
      "id": "YfdccoJ9LPTo",
      "execution_count": 32,
      "outputs": []
    },
    {
      "cell_type": "code",
      "source": [
        "df.isna().sum()"
      ],
      "metadata": {
        "colab": {
          "base_uri": "https://localhost:8080/",
          "height": 417
        },
        "id": "mc9iTl5OLbtF",
        "outputId": "bb1be7bd-fa03-46a3-ee95-f494128b53a7"
      },
      "id": "mc9iTl5OLbtF",
      "execution_count": 33,
      "outputs": [
        {
          "output_type": "execute_result",
          "data": {
            "text/plain": [
              "traffic_volume         0\n",
              "temp                   0\n",
              "rain_1h                0\n",
              "snow_1h                0\n",
              "clouds_all             0\n",
              "weather_main           0\n",
              "weather_description    0\n",
              "date                   0\n",
              "time                   0\n",
              "Time                   0\n",
              "dtype: int64"
            ],
            "text/html": [
              "<div>\n",
              "<style scoped>\n",
              "    .dataframe tbody tr th:only-of-type {\n",
              "        vertical-align: middle;\n",
              "    }\n",
              "\n",
              "    .dataframe tbody tr th {\n",
              "        vertical-align: top;\n",
              "    }\n",
              "\n",
              "    .dataframe thead th {\n",
              "        text-align: right;\n",
              "    }\n",
              "</style>\n",
              "<table border=\"1\" class=\"dataframe\">\n",
              "  <thead>\n",
              "    <tr style=\"text-align: right;\">\n",
              "      <th></th>\n",
              "      <th>0</th>\n",
              "    </tr>\n",
              "  </thead>\n",
              "  <tbody>\n",
              "    <tr>\n",
              "      <th>traffic_volume</th>\n",
              "      <td>0</td>\n",
              "    </tr>\n",
              "    <tr>\n",
              "      <th>temp</th>\n",
              "      <td>0</td>\n",
              "    </tr>\n",
              "    <tr>\n",
              "      <th>rain_1h</th>\n",
              "      <td>0</td>\n",
              "    </tr>\n",
              "    <tr>\n",
              "      <th>snow_1h</th>\n",
              "      <td>0</td>\n",
              "    </tr>\n",
              "    <tr>\n",
              "      <th>clouds_all</th>\n",
              "      <td>0</td>\n",
              "    </tr>\n",
              "    <tr>\n",
              "      <th>weather_main</th>\n",
              "      <td>0</td>\n",
              "    </tr>\n",
              "    <tr>\n",
              "      <th>weather_description</th>\n",
              "      <td>0</td>\n",
              "    </tr>\n",
              "    <tr>\n",
              "      <th>date</th>\n",
              "      <td>0</td>\n",
              "    </tr>\n",
              "    <tr>\n",
              "      <th>time</th>\n",
              "      <td>0</td>\n",
              "    </tr>\n",
              "    <tr>\n",
              "      <th>Time</th>\n",
              "      <td>0</td>\n",
              "    </tr>\n",
              "  </tbody>\n",
              "</table>\n",
              "</div><br><label><b>dtype:</b> int64</label>"
            ]
          },
          "metadata": {},
          "execution_count": 33
        }
      ]
    },
    {
      "cell_type": "code",
      "source": [
        "df.drop_duplicates(inplace=True)"
      ],
      "metadata": {
        "id": "iLyPZLD7LpDH"
      },
      "id": "iLyPZLD7LpDH",
      "execution_count": 34,
      "outputs": []
    },
    {
      "cell_type": "code",
      "source": [
        "df.resample('H')"
      ],
      "metadata": {
        "colab": {
          "base_uri": "https://localhost:8080/"
        },
        "id": "tpp2SOehL0aX",
        "outputId": "4a7efc1b-b1fb-47f8-a5b0-73d12e187e71"
      },
      "id": "tpp2SOehL0aX",
      "execution_count": 35,
      "outputs": [
        {
          "output_type": "execute_result",
          "data": {
            "text/plain": [
              "<pandas.core.resample.DatetimeIndexResampler object at 0x7cabf50fe1d0>"
            ]
          },
          "metadata": {},
          "execution_count": 35
        }
      ]
    },
    {
      "cell_type": "markdown",
      "id": "10def3f0",
      "metadata": {
        "id": "10def3f0"
      },
      "source": [
        "## Feature Engineering\n",
        "\n",
        "### Instructions:\n",
        "  \n",
        "- **Shift Method**: Use the `shift` method to create a new column `prev_traffic_volume`, which represents the previous day's traffic volume.\n",
        "\n",
        "- **Difference between traffic_volume**: Calculate the difference between the values in `traffic_volume` column to highlight short-term volume.\n",
        "\n",
        "- **Date Features**: Extract meaningful time-based features from the `date_time` column to enhance the model's ability to detect temporal patterns. These features include:\n",
        "  - **Day of the week**: To capture weekly seasonality.\n",
        "  - **Month**: To capture monthly trends.\n",
        "  - **Day of the year**: Useful for modeling yearly seasonality.\n"
      ]
    },
    {
      "cell_type": "code",
      "execution_count": 36,
      "id": "d62cd837",
      "metadata": {
        "id": "d62cd837"
      },
      "outputs": [],
      "source": [
        "df['prev_traffic_volume'] = df['traffic_volume'].shift(1)"
      ]
    },
    {
      "cell_type": "code",
      "source": [
        "traffic_volume_diff = df['traffic_volume'].value_counts()"
      ],
      "metadata": {
        "id": "O3QW307gQXSI"
      },
      "id": "O3QW307gQXSI",
      "execution_count": 37,
      "outputs": []
    },
    {
      "cell_type": "code",
      "source": [
        "prev_traffic_volume_diff = df['prev_traffic_volume']"
      ],
      "metadata": {
        "id": "yS37KFZCQ8zv"
      },
      "id": "yS37KFZCQ8zv",
      "execution_count": 38,
      "outputs": []
    },
    {
      "cell_type": "code",
      "source": [
        "#df['day'] = df['date_time'].dt.day\n"
      ],
      "metadata": {
        "id": "V0m2fyzEpAzY"
      },
      "id": "V0m2fyzEpAzY",
      "execution_count": 39,
      "outputs": []
    },
    {
      "cell_type": "code",
      "source": [
        "#df['day_of_week'] = df['date_time'].dt.dayofweek\n"
      ],
      "metadata": {
        "id": "kgbvcFSrod7w"
      },
      "id": "kgbvcFSrod7w",
      "execution_count": 40,
      "outputs": []
    },
    {
      "cell_type": "code",
      "source": [
        "#df['Month'] = df['date_time'].dt.month\n"
      ],
      "metadata": {
        "id": "48cPDIYUsNmk"
      },
      "id": "48cPDIYUsNmk",
      "execution_count": null,
      "outputs": []
    },
    {
      "cell_type": "markdown",
      "source": [
        "## Feature Scaling\n",
        "\n",
        "Apply feature scaling to the data if needed.\n",
        "\n",
        "**Instructions:**\n",
        "- Use a scaling method such as MinMaxScaler or StandardScaler.\n",
        "- Ensure scaling is applied correctly to both training and testing data."
      ],
      "metadata": {
        "id": "5zVTRW8PlliU"
      },
      "id": "5zVTRW8PlliU"
    },
    {
      "cell_type": "code",
      "source": [
        "\n",
        "scaler = MinMaxScaler(feature_range=(0, 1))\n",
        "scaled_data = scaler.fit_transform(df['traffic_volume'].values.reshape(-1, 1))"
      ],
      "metadata": {
        "id": "OkyjPvJdlmwC"
      },
      "id": "OkyjPvJdlmwC",
      "execution_count": 41,
      "outputs": []
    },
    {
      "cell_type": "markdown",
      "id": "3f9fe326",
      "metadata": {
        "id": "3f9fe326"
      },
      "source": [
        "## Train-Test Split\n",
        "\n",
        "Split the dataset into training and testing sets.\n",
        "\n",
        "**Instructions:**\n",
        "- Ensure the split maintains the time order of the data.\n",
        "- Decide on an appropriate ratio for splitting the data."
      ]
    },
    {
      "cell_type": "code",
      "execution_count": 42,
      "id": "38bd86e0",
      "metadata": {
        "id": "38bd86e0"
      },
      "outputs": [],
      "source": [
        "\n",
        "def create_dataset(data, time_steps=1):\n",
        "    X, Y = [], []\n",
        "    for i in range(len(data)-time_steps-1):\n",
        "        z = data[i:(i+time_steps), 0]\n",
        "        X.append(z)\n",
        "        Y.append(data[i + time_steps, 0])\n",
        "    return np.array(X), np.array(Y)\n",
        "\n",
        "time_steps = 24\n",
        "\n",
        "X, Y = create_dataset(scaled_data, time_steps)\n",
        "\n",
        "X = X.reshape(X.shape[0], X.shape[1], 1)\n",
        "\n",
        "training_size = int(len(X) * 0.8)\n",
        "X_train, X_test = X[:training_size], X[training_size:]\n",
        "Y_train, Y_test = Y[:training_size], Y[training_size:]"
      ]
    },
    {
      "cell_type": "markdown",
      "id": "4f0be6e9",
      "metadata": {
        "id": "4f0be6e9"
      },
      "source": [
        "## Models Selection\n",
        "\n",
        "Choose two models for time series forecasting.\n",
        "\n",
        "**Instructions:**\n",
        "- Select two models such as ARIMA, SARIMA, RNN, LSTM, or GRU.\n",
        "- Train these models and then compare their performance."
      ]
    },
    {
      "cell_type": "code",
      "execution_count": 73,
      "id": "ffceef22",
      "metadata": {
        "id": "ffceef22"
      },
      "outputs": [],
      "source": [
        "#Choosing LSTM as the first model\n",
        "\n",
        "\n",
        "model = Sequential()\n",
        "\n",
        "model.add(LSTM(32, return_sequences=True, input_shape=(time_steps, 1)))\n",
        "model.add(Dropout(0.2))\n",
        "\n",
        "model.add(LSTM(64, return_sequences=True))\n",
        "model.add(Dropout(0.2))\n",
        "\n",
        "model.add(LSTM(128, return_sequences=True))\n",
        "model.add(Dropout(0.2))\n",
        "\n",
        "model.add(LSTM(256, return_sequences=True))\n",
        "model.add(Dropout(0.2))\n",
        "\n",
        "model.add(LSTM(512, return_sequences=True))\n",
        "model.add(Dropout(0.2))\n",
        "\n",
        "model.add(LSTM(1024, return_sequences=False))\n",
        "model.add(Dropout(0.3))\n",
        "\n",
        "model.add(Dense(256))\n",
        "model.add(Dropout(0.3))\n",
        "model.add(Dense(128))\n",
        "model.add(Dropout(0.3))\n",
        "model.add(Dense(64))\n",
        "model.add(Dense(1))\n",
        "\n",
        "\n",
        "model.compile(optimizer='adam', loss='mean_squared_error')\n",
        "\n"
      ]
    },
    {
      "cell_type": "markdown",
      "id": "0981f787",
      "metadata": {
        "id": "0981f787"
      },
      "source": [
        "### Model 1 Training\n",
        "\n",
        "Train your first model on the training dataset.\n",
        "\n",
        "**Instructions:**\n",
        "- Fit the first model to the training data.\n",
        "- Ensure to monitor the training process."
      ]
    },
    {
      "cell_type": "code",
      "execution_count": 74,
      "id": "8205ed7f",
      "metadata": {
        "id": "8205ed7f",
        "colab": {
          "base_uri": "https://localhost:8080/"
        },
        "outputId": "f0189fd2-20f9-4b41-ad72-c5d3debeda5e"
      },
      "outputs": [
        {
          "output_type": "stream",
          "name": "stdout",
          "text": [
            "Epoch 1/100\n",
            "\u001b[1m499/499\u001b[0m \u001b[32m━━━━━━━━━━━━━━━━━━━━\u001b[0m\u001b[37m\u001b[0m \u001b[1m22s\u001b[0m 34ms/step - loss: 0.0214 - val_loss: 0.0138\n",
            "Epoch 2/100\n",
            "\u001b[1m499/499\u001b[0m \u001b[32m━━━━━━━━━━━━━━━━━━━━\u001b[0m\u001b[37m\u001b[0m \u001b[1m20s\u001b[0m 33ms/step - loss: 0.0144 - val_loss: 0.0139\n",
            "Epoch 3/100\n",
            "\u001b[1m499/499\u001b[0m \u001b[32m━━━━━━━━━━━━━━━━━━━━\u001b[0m\u001b[37m\u001b[0m \u001b[1m21s\u001b[0m 33ms/step - loss: 0.0144 - val_loss: 0.0138\n",
            "Epoch 4/100\n",
            "\u001b[1m499/499\u001b[0m \u001b[32m━━━━━━━━━━━━━━━━━━━━\u001b[0m\u001b[37m\u001b[0m \u001b[1m17s\u001b[0m 33ms/step - loss: 0.0145 - val_loss: 0.0143\n",
            "Epoch 5/100\n",
            "\u001b[1m499/499\u001b[0m \u001b[32m━━━━━━━━━━━━━━━━━━━━\u001b[0m\u001b[37m\u001b[0m \u001b[1m20s\u001b[0m 33ms/step - loss: 0.0142 - val_loss: 0.0139\n",
            "Epoch 6/100\n",
            "\u001b[1m499/499\u001b[0m \u001b[32m━━━━━━━━━━━━━━━━━━━━\u001b[0m\u001b[37m\u001b[0m \u001b[1m21s\u001b[0m 33ms/step - loss: 0.0143 - val_loss: 0.0139\n",
            "Epoch 7/100\n",
            "\u001b[1m499/499\u001b[0m \u001b[32m━━━━━━━━━━━━━━━━━━━━\u001b[0m\u001b[37m\u001b[0m \u001b[1m20s\u001b[0m 32ms/step - loss: 0.0142 - val_loss: 0.0140\n",
            "Epoch 8/100\n",
            "\u001b[1m499/499\u001b[0m \u001b[32m━━━━━━━━━━━━━━━━━━━━\u001b[0m\u001b[37m\u001b[0m \u001b[1m20s\u001b[0m 32ms/step - loss: 0.0144 - val_loss: 0.0139\n",
            "Epoch 9/100\n",
            "\u001b[1m499/499\u001b[0m \u001b[32m━━━━━━━━━━━━━━━━━━━━\u001b[0m\u001b[37m\u001b[0m \u001b[1m21s\u001b[0m 32ms/step - loss: 0.0143 - val_loss: 0.0138\n",
            "Epoch 10/100\n",
            "\u001b[1m499/499\u001b[0m \u001b[32m━━━━━━━━━━━━━━━━━━━━\u001b[0m\u001b[37m\u001b[0m \u001b[1m24s\u001b[0m 39ms/step - loss: 0.0143 - val_loss: 0.0138\n",
            "Epoch 11/100\n",
            "\u001b[1m499/499\u001b[0m \u001b[32m━━━━━━━━━━━━━━━━━━━━\u001b[0m\u001b[37m\u001b[0m \u001b[1m20s\u001b[0m 38ms/step - loss: 0.0143 - val_loss: 0.0138\n"
          ]
        }
      ],
      "source": [
        "early_stopping = EarlyStopping(monitor='val_loss',patience=10,restore_best_weights=True)\n",
        "history = model.fit(X_train, Y_train,\n",
        "                    batch_size=32,\n",
        "                    epochs=100,\n",
        "                    validation_data=(X_test, Y_test),\n",
        "                    callbacks=[early_stopping])\n"
      ]
    },
    {
      "cell_type": "markdown",
      "id": "5f5b3fe3",
      "metadata": {
        "id": "5f5b3fe3"
      },
      "source": [
        "### Make 1 Predictions\n",
        "\n",
        "Generate predictions on the test dataset.\n",
        "\n",
        "### Instructions:\n",
        "- Use the trained model to make predictions on the test data.\n",
        "- Store the predictions for further analysis."
      ]
    },
    {
      "cell_type": "code",
      "execution_count": 75,
      "id": "d1d5cca3",
      "metadata": {
        "id": "d1d5cca3",
        "colab": {
          "base_uri": "https://localhost:8080/"
        },
        "outputId": "2758dcda-6cf4-4c91-effb-2dc0e5d8d977"
      },
      "outputs": [
        {
          "output_type": "stream",
          "name": "stdout",
          "text": [
            "\u001b[1m499/499\u001b[0m \u001b[32m━━━━━━━━━━━━━━━━━━━━\u001b[0m\u001b[37m\u001b[0m \u001b[1m5s\u001b[0m 9ms/step\n",
            "\u001b[1m125/125\u001b[0m \u001b[32m━━━━━━━━━━━━━━━━━━━━\u001b[0m\u001b[37m\u001b[0m \u001b[1m1s\u001b[0m 8ms/step\n"
          ]
        }
      ],
      "source": [
        "train_predict = model.predict(X_train)\n",
        "test_predict = model.predict(X_test)\n",
        "\n",
        "train_predict = scaler.inverse_transform(train_predict)\n",
        "test_predict = scaler.inverse_transform(test_predict)"
      ]
    },
    {
      "cell_type": "markdown",
      "id": "6489cd08",
      "metadata": {
        "id": "6489cd08"
      },
      "source": [
        "### Model 1 Evaluation\n",
        "\n",
        "Evaluate the performance of your first model on the test dataset.\n",
        "\n",
        "**Instructions:**\n",
        "- Calculate evaluation metrics such as MAE, MSE, RMSE, or MAPE.\n",
        "- Plot the predicted vs actual values for the test set.\n",
        "- Plot the loss and the validation loss."
      ]
    },
    {
      "cell_type": "code",
      "execution_count": 76,
      "id": "aad46e07",
      "metadata": {
        "id": "aad46e07",
        "colab": {
          "base_uri": "https://localhost:8080/",
          "height": 745
        },
        "outputId": "56c5cbd3-d90a-4cc9-bb14-631d166bd31b"
      },
      "outputs": [
        {
          "output_type": "display_data",
          "data": {
            "text/plain": [
              "<Figure size 1600x800 with 1 Axes>"
            ],
            "image/png": "[encoded data removed]"
          },
          "metadata": {}
        }
      ],
      "source": [
        "plt.figure(figsize=(16, 8))\n",
        "\n",
        "plt.plot(df['Time'], df['traffic_volume'], label='Actual Traffic', color='black', linewidth=2)\n",
        "\n",
        "plt.plot(df['Time'][time_steps+1:len(train_predict)+time_steps+1], train_predict,\n",
        "         label='Train Predict', color='blue', linestyle='--', linewidth=2)\n",
        "\n",
        "plt.plot(df['Time'][len(train_predict)+time_steps+1:], test_predict,\n",
        "         label='Test Predict', color='red', linestyle='--', linewidth=2)\n",
        "\n",
        "plt.xlabel('Time', fontsize=14)\n",
        "plt.ylabel('Traffic Intensity', fontsize=14)\n",
        "plt.title('Actual vs Predicted Traffic Intensity', fontsize=16)\n",
        "plt.legend(fontsize=12)\n",
        "plt.grid(True)\n",
        "plt.show()\n"
      ]
    },
    {
      "cell_type": "code",
      "source": [
        "train_r2 = r2_score(df['traffic_volume'][time_steps+1:len(train_predict)+time_steps+1], train_predict)\n",
        "train_mse = mean_squared_error(df['traffic_volume'][time_steps+1:len(train_predict)+time_steps+1], train_predict)\n",
        "\n",
        "\n",
        "test_r2 = r2_score(df['traffic_volume'][len(train_predict)+time_steps+1:], test_predict)\n",
        "test_mse = mean_squared_error(df['traffic_volume'][len(train_predict)+time_steps+1:], test_predict)\n",
        "\n",
        "\n",
        "print(f\"Training R²: {train_r2:.4f}\")\n",
        "print(f\"Training MSE: {train_mse:.4f}\")\n",
        "print(f\"Testing R²: {test_r2:.4f}\")\n",
        "print(f\"Testing MSE: {test_mse:.4f}\")"
      ],
      "metadata": {
        "colab": {
          "base_uri": "https://localhost:8080/"
        },
        "id": "8_RTAWUxujDB",
        "outputId": "785b0797-861a-4529-dd85-b26f270e493b"
      },
      "id": "8_RTAWUxujDB",
      "execution_count": 77,
      "outputs": [
        {
          "output_type": "stream",
          "name": "stdout",
          "text": [
            "Training R²: -0.0015\n",
            "Training MSE: 3933345.4207\n",
            "Testing R²: -0.0000\n",
            "Testing MSE: 3835400.5097\n"
          ]
        }
      ]
    },
    {
      "cell_type": "markdown",
      "id": "82dd396a",
      "metadata": {
        "id": "82dd396a"
      },
      "source": [
        "### Model 2 Training\n",
        "\n",
        "Train your second model on the training dataset.\n",
        "\n",
        "**Instructions:**\n",
        "- Fit the second model to the training data.\n",
        "- Ensure to monitor the training process."
      ]
    },
    {
      "cell_type": "code",
      "execution_count": 78,
      "id": "b8605884",
      "metadata": {
        "id": "b8605884",
        "colab": {
          "base_uri": "https://localhost:8080/"
        },
        "outputId": "8cc57544-f516-40d2-c512-4fcaf7fc9530"
      },
      "outputs": [
        {
          "output_type": "stream",
          "name": "stderr",
          "text": [
            "/usr/local/lib/python3.10/dist-packages/keras/src/layers/rnn/rnn.py:204: UserWarning: Do not pass an `input_shape`/`input_dim` argument to a layer. When using Sequential models, prefer using an `Input(shape)` object as the first layer in the model instead.\n",
            "  super().__init__(**kwargs)\n"
          ]
        },
        {
          "output_type": "stream",
          "name": "stdout",
          "text": [
            "Epoch 1/100\n",
            "\u001b[1m499/499\u001b[0m \u001b[32m━━━━━━━━━━━━━━━━━━━━\u001b[0m\u001b[37m\u001b[0m \u001b[1m48s\u001b[0m 66ms/step - loss: 3.6147 - val_loss: 0.0140\n",
            "Epoch 2/100\n",
            "\u001b[1m499/499\u001b[0m \u001b[32m━━━━━━━━━━━━━━━━━━━━\u001b[0m\u001b[37m\u001b[0m \u001b[1m57s\u001b[0m 35ms/step - loss: 0.0180 - val_loss: 0.0143\n",
            "Epoch 3/100\n",
            "\u001b[1m499/499\u001b[0m \u001b[32m━━━━━━━━━━━━━━━━━━━━\u001b[0m\u001b[37m\u001b[0m \u001b[1m16s\u001b[0m 33ms/step - loss: 0.0163 - val_loss: 0.0139\n",
            "Epoch 4/100\n",
            "\u001b[1m499/499\u001b[0m \u001b[32m━━━━━━━━━━━━━━━━━━━━\u001b[0m\u001b[37m\u001b[0m \u001b[1m25s\u001b[0m 42ms/step - loss: 0.0165 - val_loss: 0.0138\n",
            "Epoch 5/100\n",
            "\u001b[1m499/499\u001b[0m \u001b[32m━━━━━━━━━━━━━━━━━━━━\u001b[0m\u001b[37m\u001b[0m \u001b[1m38s\u001b[0m 36ms/step - loss: 0.0177 - val_loss: 0.0141\n",
            "Epoch 6/100\n",
            "\u001b[1m499/499\u001b[0m \u001b[32m━━━━━━━━━━━━━━━━━━━━\u001b[0m\u001b[37m\u001b[0m \u001b[1m20s\u001b[0m 35ms/step - loss: 0.0190 - val_loss: 0.0161\n",
            "Epoch 7/100\n",
            "\u001b[1m499/499\u001b[0m \u001b[32m━━━━━━━━━━━━━━━━━━━━\u001b[0m\u001b[37m\u001b[0m \u001b[1m21s\u001b[0m 36ms/step - loss: 0.0202 - val_loss: 0.0138\n",
            "Epoch 8/100\n",
            "\u001b[1m499/499\u001b[0m \u001b[32m━━━━━━━━━━━━━━━━━━━━\u001b[0m\u001b[37m\u001b[0m \u001b[1m20s\u001b[0m 35ms/step - loss: 0.0228 - val_loss: 0.0143\n",
            "Epoch 9/100\n",
            "\u001b[1m499/499\u001b[0m \u001b[32m━━━━━━━━━━━━━━━━━━━━\u001b[0m\u001b[37m\u001b[0m \u001b[1m23s\u001b[0m 39ms/step - loss: 0.0238 - val_loss: 0.0146\n",
            "Epoch 10/100\n",
            "\u001b[1m499/499\u001b[0m \u001b[32m━━━━━━━━━━━━━━━━━━━━\u001b[0m\u001b[37m\u001b[0m \u001b[1m18s\u001b[0m 36ms/step - loss: 0.0262 - val_loss: 0.0158\n",
            "Epoch 11/100\n",
            "\u001b[1m499/499\u001b[0m \u001b[32m━━━━━━━━━━━━━━━━━━━━\u001b[0m\u001b[37m\u001b[0m \u001b[1m17s\u001b[0m 35ms/step - loss: 0.0250 - val_loss: 0.0215\n",
            "Epoch 12/100\n",
            "\u001b[1m499/499\u001b[0m \u001b[32m━━━━━━━━━━━━━━━━━━━━\u001b[0m\u001b[37m\u001b[0m \u001b[1m20s\u001b[0m 35ms/step - loss: 0.0233 - val_loss: 0.0143\n",
            "Epoch 13/100\n",
            "\u001b[1m499/499\u001b[0m \u001b[32m━━━━━━━━━━━━━━━━━━━━\u001b[0m\u001b[37m\u001b[0m \u001b[1m18s\u001b[0m 36ms/step - loss: 0.0223 - val_loss: 0.0139\n",
            "Epoch 14/100\n",
            "\u001b[1m499/499\u001b[0m \u001b[32m━━━━━━━━━━━━━━━━━━━━\u001b[0m\u001b[37m\u001b[0m \u001b[1m18s\u001b[0m 37ms/step - loss: 0.0220 - val_loss: 0.0158\n"
          ]
        }
      ],
      "source": [
        "model = Sequential()\n",
        "\n",
        "\n",
        "model.add(SimpleRNN(32, return_sequences=True, input_shape=(time_steps, 1)))\n",
        "model.add(Dropout(0.2))\n",
        "\n",
        "model.add(SimpleRNN(64, return_sequences=True))\n",
        "model.add(Dropout(0.2))\n",
        "\n",
        "model.add(SimpleRNN(128, return_sequences=True))\n",
        "model.add(Dropout(0.2))\n",
        "\n",
        "model.add(SimpleRNN(256, return_sequences=True))\n",
        "model.add(Dropout(0.2))\n",
        "\n",
        "model.add(SimpleRNN(512, return_sequences=True))\n",
        "model.add(Dropout(0.2))\n",
        "\n",
        "model.add(SimpleRNN(1024, return_sequences=False))\n",
        "model.add(Dropout(0.3))\n",
        "\n",
        "model.add(Dense(256))\n",
        "model.add(Dropout(0.3))\n",
        "model.add(Dense(128))\n",
        "model.add(Dropout(0.3))\n",
        "model.add(Dense(64))\n",
        "model.add(Dense(1))\n",
        "\n",
        "\n",
        "\n",
        "model.compile(optimizer='adam', loss='mean_squared_error')\n",
        "\n",
        "early_stopping = EarlyStopping(monitor='val_loss',patience=10,restore_best_weights=True)\n",
        "\n",
        "history = model.fit(X_train, Y_train,\n",
        "                    batch_size=32,\n",
        "                    epochs=100,\n",
        "                    validation_data=(X_test, Y_test),\n",
        "                    callbacks=[early_stopping])"
      ]
    },
    {
      "cell_type": "markdown",
      "id": "3e811d93",
      "metadata": {
        "id": "3e811d93"
      },
      "source": [
        "### Make 2 Predictions\n",
        "\n",
        "Generate predictions on the test dataset.\n",
        "\n",
        "### Instructions:\n",
        "- Use the trained model to make predictions on the test data.\n",
        "- Store the predictions for further analysis."
      ]
    },
    {
      "cell_type": "code",
      "source": [
        "train_predict = model.predict(X_train)\n",
        "test_predict = model.predict(X_test)\n",
        "\n",
        "train_predict = scaler.inverse_transform(train_predict)\n",
        "test_predict = scaler.inverse_transform(test_predict)"
      ],
      "metadata": {
        "colab": {
          "base_uri": "https://localhost:8080/"
        },
        "id": "OOusAVF8wm6g",
        "outputId": "672dc0a5-8cf6-45cb-90fc-a09bf43570fc"
      },
      "id": "OOusAVF8wm6g",
      "execution_count": 79,
      "outputs": [
        {
          "output_type": "stream",
          "name": "stdout",
          "text": [
            "\u001b[1m499/499\u001b[0m \u001b[32m━━━━━━━━━━━━━━━━━━━━\u001b[0m\u001b[37m\u001b[0m \u001b[1m6s\u001b[0m 10ms/step\n",
            "\u001b[1m125/125\u001b[0m \u001b[32m━━━━━━━━━━━━━━━━━━━━\u001b[0m\u001b[37m\u001b[0m \u001b[1m2s\u001b[0m 12ms/step\n"
          ]
        }
      ]
    },
    {
      "cell_type": "code",
      "execution_count": 80,
      "id": "d1492fe0",
      "metadata": {
        "id": "d1492fe0",
        "colab": {
          "base_uri": "https://localhost:8080/",
          "height": 745
        },
        "outputId": "37c36b8f-60f3-4ad6-e12d-eab0389fa155"
      },
      "outputs": [
        {
          "output_type": "display_data",
          "data": {
            "text/plain": [
              "<Figure size 1600x800 with 1 Axes>"
            ],
            "image/png": "[encoded data removed]"
          },
          "metadata": {}
        }
      ],
      "source": [
        "plt.figure(figsize=(16, 8))\n",
        "\n",
        "plt.plot(df['Time'], df['traffic_volume'], label='Actual Traffic', color='black', linewidth=2)\n",
        "\n",
        "plt.plot(df['Time'][time_steps+1:len(train_predict)+time_steps+1], train_predict,\n",
        "         label='Train Predict', color='blue', linestyle='--', linewidth=2)\n",
        "\n",
        "plt.plot(df['Time'][len(train_predict)+time_steps+1:], test_predict,\n",
        "         label='Test Predict', color='red', linestyle='--', linewidth=2)\n",
        "\n",
        "plt.xlabel('Time', fontsize=14)\n",
        "plt.ylabel('Traffic Intensity', fontsize=14)\n",
        "plt.title('Actual vs Predicted Traffic Intensity', fontsize=16)\n",
        "plt.legend(fontsize=12)\n",
        "plt.grid(True)\n",
        "plt.show()\n"
      ]
    },
    {
      "cell_type": "markdown",
      "id": "9d7f7af2",
      "metadata": {
        "id": "9d7f7af2"
      },
      "source": [
        "### Model 2 Evaluation\n",
        "\n",
        "Evaluate the performance of your second model on the test dataset.\n",
        "\n",
        "**Instructions:**\n",
        "- Calculate evaluation metrics such as MAE, MSE, RMSE, or MAPE.\n",
        "- Plot the predicted vs actual values for the test set.\n",
        "- Plot the loss and the validation loss."
      ]
    },
    {
      "cell_type": "code",
      "execution_count": 81,
      "id": "7c3b85de",
      "metadata": {
        "id": "7c3b85de",
        "colab": {
          "base_uri": "https://localhost:8080/"
        },
        "outputId": "3e34f636-9c90-4434-d6be-3493bd903a64"
      },
      "outputs": [
        {
          "output_type": "stream",
          "name": "stdout",
          "text": [
            "Training R²: -0.0058\n",
            "Training MSE: 3950225.1827\n",
            "Testing R²: -0.0013\n",
            "Testing MSE: 3840321.8604\n"
          ]
        }
      ],
      "source": [
        "train_r2 = r2_score(df['traffic_volume'][time_steps+1:len(train_predict)+time_steps+1], train_predict)\n",
        "train_mse = mean_squared_error(df['traffic_volume'][time_steps+1:len(train_predict)+time_steps+1], train_predict)\n",
        "\n",
        "\n",
        "test_r2 = r2_score(df['traffic_volume'][len(train_predict)+time_steps+1:], test_predict)\n",
        "test_mse = mean_squared_error(df['traffic_volume'][len(train_predict)+time_steps+1:], test_predict)\n",
        "\n",
        "\n",
        "print(f\"Training R²: {train_r2:.4f}\")\n",
        "print(f\"Training MSE: {train_mse:.4f}\")\n",
        "print(f\"Testing R²: {test_r2:.4f}\")\n",
        "print(f\"Testing MSE: {test_mse:.4f}\")"
      ]
    },
    {
      "cell_type": "markdown",
      "id": "9cb9e77a",
      "metadata": {
        "id": "9cb9e77a"
      },
      "source": [
        "## Project Questions:\n",
        "\n",
        "1. **Data Preprocessing**: Explain How you chose your specific data preprocessing techniques (e.g., normalization, handling missing values). How did these techniques help prepare the data for training the model?\n",
        "2. **Feature Engineering**: Did you perform any feature engineering or transformations? Describe your decisions and how these new features (or transformed features) contributed to the forecasting model.\n",
        "3. **Model Architecture**: Describe the reasoning behind your model’s architecture (e.g., the type of model, layers, number of neurons, and activation functions). Why did you believe this architecture was appropriate for time series forecasting?\n",
        "4. **Training Process**: Discuss why you chose your batch size, number of epochs, and optimizer. How did these choices affect the training process? Did you experiment with different values, and what were the outcomes?\n",
        "5. **Loss Function and Metrics**: Why did you choose the specific loss function and evaluation metrics (e.g., MAE, RMSE, MAPE)? How do they align with the objective of forecasting?\n",
        "6. **Model Tuning (If Done)**: Describe any tuning you performed (e.g., hyperparameter tuning) and why you felt it was necessary. How did these adjustments improve model performance?\n",
        "7. **Overfitting and Underfitting**: Analyze whether the model encountered any overfitting or underfitting during training. What strategies could you implement to mitigate these issues?\n",
        "8. **Future Improvements**: Suggest potential improvements or further steps you could take to enhance model performance. Consider using different algorithms, feature engineering techniques, or tuning hyperparameters."
      ]
    },
    {
      "cell_type": "markdown",
      "id": "67ba7c70",
      "metadata": {
        "id": "67ba7c70"
      },
      "source": [
        "### Answer Here:"
      ]
    },
    {
      "cell_type": "markdown",
      "source": [
        "\n",
        "    Data Preprocessing: Explain How you chose your specific data preprocessing techniques (e.g., normalization, handling missing values). How did these techniques help prepare the data for training the model?\n",
        "\n",
        "    In handeling missing data I used the method .dropna(), the missing values were 20 out of 19980, so it was not harmful to drop them as the best practice.\n",
        "\n",
        "    Feature Engineering: Did you perform any feature engineering or transformations? Describe your decisions and how these new features (or transformed features) contributed to the forecasting model.\n",
        "    yes I did seprate the date_time colomn into two components: date: the date of the day, and time: the hours in the format: '%H, %M, %S, which was usful to let me see the traffic volumes and plot it at an hourly frequency.\n",
        "\n",
        "    Model Architecture: Describe the reasoning behind your model’s architecture (e.g., the type of model, layers, number of neurons, and activation functions). Why did you believe this architecture was appropriate for time series forecasting?\n",
        "    In LSTM I inteded to add more layers because of my experimenting with less layers that perfromed poorly, however, regarding large size of data it is best to design more complex layers: I started with 32 up to 1024 to habdel the complexity of the data in the Dense layer I dropped 30% of data randomly to assure there is not an overfitting, and outputed a single output('traffic prediction in hrs frequency')\n",
        "\n",
        "    Training Process: Discuss why you chose your batch size, number of epochs, and optimizer. How did these choices affect the training process? Did you experiment with different values, and what were the outcomes?\n",
        "    Yes, I choose each batch to be 32 in order to make sure the model training accuracy, choosing 100 epchos but the training process was not performing well, which needs more experimnting from my side, RNN was performing slightly better than LSTM but both experienced early stopping which indicate high loss percentage which is not fortunate, if there was more time I will make sure the model training will go smooth.\n",
        "    Loss Function and Metrics: Why did you choose the specific loss function and evaluation metrics (e.g., MAE, RMSE, MAPE)? How do they align with the objective of forecasting? MSE because it puts more peneality in high error weights, and is differentiable making it more suitbale for timeseries.\n",
        "    Model Tuning (If Done): Describe any tuning you performed (e.g., hyperparameter tuning) and why you felt it was necessary. How did these adjustments improve model performance?\n",
        "    the dropout method helped with making the perfromance better, there is not so much difference between the training and loss regradless of the unfortunate training process.\n",
        "    Overfitting and Underfitting: Analyze whether the model encountered any overfitting or underfitting during training. What strategies could you implement to mitigate these issues? Can say it experienced an overfitting on LSTM side, howerever it needs more improvement in the training process.\n",
        "    Future Improvements: Suggest potential improvements or further steps you could take to enhance model performance. Consider using different algorithms, feature engineering techniques, or tuning hyperparameters.\n",
        "    I will add more layers and do more hyperparameter tuning."
      ],
      "metadata": {
        "id": "W45ooJEnOblf"
      },
      "id": "W45ooJEnOblf"
    }
  ],
  "metadata": {
    "kernelspec": {
      "display_name": "Python 3",
      "name": "python3"
    },
    "language_info": {
      "codemirror_mode": {
        "name": "ipython",
        "version": 3
      },
      "file_extension": ".py",
      "mimetype": "text/x-python",
      "name": "python",
      "nbconvert_exporter": "python",
      "pygments_lexer": "ipython3",
      "version": "3.12.4"
    },
    "colab": {
      "provenance": [],
      "gpuType": "T4",
      "include_colab_link": true
    },
    "accelerator": "GPU"
  },
  "nbformat": 4,
  "nbformat_minor": 5
}